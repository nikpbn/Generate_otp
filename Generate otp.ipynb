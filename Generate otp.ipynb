{
 "cells": [
  {
   "cell_type": "code",
   "execution_count": null,
   "metadata": {},
   "outputs": [],
   "source": [
    "import random\n",
    "from twilio.rest import Client\n",
    "\n",
    "# https://www.twilio.com/console ## Go to this link to create a account on twilio\n",
    "\n",
    "otp= random.randrange(100000, 999999)\n",
    "print(otp)\n",
    "\n",
    "\n",
    "account_sid = 'AC3d38cd7ff368b8ef695cfd6a2a*****'\n",
    "auth_token = 'a26b81e6e6d3e7423536e68d4*****'\n",
    "\n",
    "client = Client(account_sid, auth_token)\n",
    "your_mobile_no = int(input('Enter Your Mobile Nnumber'))\n",
    "\n",
    "message = client.messages.create(\n",
    "    body = 'Your OTP is- ' +str(otp),\n",
    "    from_ = '+15039668218',\n",
    "    to = your_mobile_no\n",
    ")\n",
    "\n",
    "print(message.sid)\n",
    "\n",
    "user_ip = int(input('Enter the otp'))\n",
    "\n",
    "if otp==user_ip:\n",
    "    print('Access Granted')\n",
    "else:\n",
    "    print('Access Denied')\n"
   ]
  }
 ],
 "metadata": {
  "kernelspec": {
   "display_name": "Python 3",
   "language": "python",
   "name": "python3"
  },
  "language_info": {
   "codemirror_mode": {
    "name": "ipython",
    "version": 2
   },
   "file_extension": ".py",
   "mimetype": "text/x-python",
   "name": "python",
   "nbconvert_exporter": "python",
   "pygments_lexer": "ipython2",
   "version": "2.7.17"
  }
 },
 "nbformat": 4,
 "nbformat_minor": 2
}
